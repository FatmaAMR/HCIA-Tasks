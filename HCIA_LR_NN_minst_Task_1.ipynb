{
  "nbformat": 4,
  "nbformat_minor": 0,
  "metadata": {
    "colab": {
      "provenance": []
    },
    "kernelspec": {
      "name": "python3",
      "display_name": "Python 3"
    },
    "language_info": {
      "name": "python"
    },
    "accelerator": "GPU"
  },
  "cells": [
    {
      "cell_type": "code",
      "execution_count": null,
      "metadata": {
        "colab": {
          "base_uri": "https://localhost:8080/"
        },
        "id": "lSll-kV_bYkB",
        "outputId": "450c9564-6fc7-43a0-c137-8aa60f96e25c"
      },
      "outputs": [
        {
          "output_type": "stream",
          "name": "stdout",
          "text": [
            "3.8.0\n"
          ]
        }
      ],
      "source": [
        "import numpy as np\n",
        "from tensorflow import keras\n",
        "print (keras.__version__)\n",
        "from keras.models import Sequential\n",
        "from keras.layers import Dense, Activation"
      ]
    },
    {
      "cell_type": "code",
      "source": [
        "from keras.datasets import mnist\n",
        "\n",
        "#We import data into variables and check their shape.\n",
        "\n",
        "(x_train, y_train), (x_test, y_test) = mnist.load_data()\n",
        "x_train.shape\n"
      ],
      "metadata": {
        "colab": {
          "base_uri": "https://localhost:8080/"
        },
        "id": "Yt6NW6k1eHtC",
        "outputId": "1e4a3ac5-bdd5-4558-a78d-fb95328d9ad9"
      },
      "execution_count": null,
      "outputs": [
        {
          "output_type": "execute_result",
          "data": {
            "text/plain": [
              "(60000, 28, 28)"
            ]
          },
          "metadata": {},
          "execution_count": 30
        }
      ]
    },
    {
      "cell_type": "code",
      "source": [
        "x_train[0]"
      ],
      "metadata": {
        "colab": {
          "base_uri": "https://localhost:8080/",
          "height": 69
        },
        "id": "d2YJLOEYZcy3",
        "outputId": "4ac8fc5f-8842-4bad-fa20-1b420fac9838"
      },
      "execution_count": null,
      "outputs": [
        {
          "output_type": "execute_result",
          "data": {
            "text/plain": [
              "array([[  0,   0,   0,   0,   0,   0,   0,   0,   0,   0,   0,   0,   0,\n",
              "          0,   0,   0,   0,   0,   0,   0,   0,   0,   0,   0,   0,   0,\n",
              "          0,   0],\n",
              "       [  0,   0,   0,   0,   0,   0,   0,   0,   0,   0,   0,   0,   0,\n",
              "          0,   0,   0,   0,   0,   0,   0,   0,   0,   0,   0,   0,   0,\n",
              "          0,   0],\n",
              "       [  0,   0,   0,   0,   0,   0,   0,   0,   0,   0,   0,   0,   0,\n",
              "          0,   0,   0,   0,   0,   0,   0,   0,   0,   0,   0,   0,   0,\n",
              "          0,   0],\n",
              "       [  0,   0,   0,   0,   0,   0,   0,   0,   0,   0,   0,   0,   0,\n",
              "          0,   0,   0,   0,   0,   0,   0,   0,   0,   0,   0,   0,   0,\n",
              "          0,   0],\n",
              "       [  0,   0,   0,   0,   0,   0,   0,   0,   0,   0,   0,   0,   0,\n",
              "          0,   0,   0,   0,   0,   0,   0,   0,   0,   0,   0,   0,   0,\n",
              "          0,   0],\n",
              "       [  0,   0,   0,   0,   0,   0,   0,   0,   0,   0,   0,   0,   3,\n",
              "         18,  18,  18, 126, 136, 175,  26, 166, 255, 247, 127,   0,   0,\n",
              "          0,   0],\n",
              "       [  0,   0,   0,   0,   0,   0,   0,   0,  30,  36,  94, 154, 170,\n",
              "        253, 253, 253, 253, 253, 225, 172, 253, 242, 195,  64,   0,   0,\n",
              "          0,   0],\n",
              "       [  0,   0,   0,   0,   0,   0,   0,  49, 238, 253, 253, 253, 253,\n",
              "        253, 253, 253, 253, 251,  93,  82,  82,  56,  39,   0,   0,   0,\n",
              "          0,   0],\n",
              "       [  0,   0,   0,   0,   0,   0,   0,  18, 219, 253, 253, 253, 253,\n",
              "        253, 198, 182, 247, 241,   0,   0,   0,   0,   0,   0,   0,   0,\n",
              "          0,   0],\n",
              "       [  0,   0,   0,   0,   0,   0,   0,   0,  80, 156, 107, 253, 253,\n",
              "        205,  11,   0,  43, 154,   0,   0,   0,   0,   0,   0,   0,   0,\n",
              "          0,   0],\n",
              "       [  0,   0,   0,   0,   0,   0,   0,   0,   0,  14,   1, 154, 253,\n",
              "         90,   0,   0,   0,   0,   0,   0,   0,   0,   0,   0,   0,   0,\n",
              "          0,   0],\n",
              "       [  0,   0,   0,   0,   0,   0,   0,   0,   0,   0,   0, 139, 253,\n",
              "        190,   2,   0,   0,   0,   0,   0,   0,   0,   0,   0,   0,   0,\n",
              "          0,   0],\n",
              "       [  0,   0,   0,   0,   0,   0,   0,   0,   0,   0,   0,  11, 190,\n",
              "        253,  70,   0,   0,   0,   0,   0,   0,   0,   0,   0,   0,   0,\n",
              "          0,   0],\n",
              "       [  0,   0,   0,   0,   0,   0,   0,   0,   0,   0,   0,   0,  35,\n",
              "        241, 225, 160, 108,   1,   0,   0,   0,   0,   0,   0,   0,   0,\n",
              "          0,   0],\n",
              "       [  0,   0,   0,   0,   0,   0,   0,   0,   0,   0,   0,   0,   0,\n",
              "         81, 240, 253, 253, 119,  25,   0,   0,   0,   0,   0,   0,   0,\n",
              "          0,   0],\n",
              "       [  0,   0,   0,   0,   0,   0,   0,   0,   0,   0,   0,   0,   0,\n",
              "          0,  45, 186, 253, 253, 150,  27,   0,   0,   0,   0,   0,   0,\n",
              "          0,   0],\n",
              "       [  0,   0,   0,   0,   0,   0,   0,   0,   0,   0,   0,   0,   0,\n",
              "          0,   0,  16,  93, 252, 253, 187,   0,   0,   0,   0,   0,   0,\n",
              "          0,   0],\n",
              "       [  0,   0,   0,   0,   0,   0,   0,   0,   0,   0,   0,   0,   0,\n",
              "          0,   0,   0,   0, 249, 253, 249,  64,   0,   0,   0,   0,   0,\n",
              "          0,   0],\n",
              "       [  0,   0,   0,   0,   0,   0,   0,   0,   0,   0,   0,   0,   0,\n",
              "          0,  46, 130, 183, 253, 253, 207,   2,   0,   0,   0,   0,   0,\n",
              "          0,   0],\n",
              "       [  0,   0,   0,   0,   0,   0,   0,   0,   0,   0,   0,   0,  39,\n",
              "        148, 229, 253, 253, 253, 250, 182,   0,   0,   0,   0,   0,   0,\n",
              "          0,   0],\n",
              "       [  0,   0,   0,   0,   0,   0,   0,   0,   0,   0,  24, 114, 221,\n",
              "        253, 253, 253, 253, 201,  78,   0,   0,   0,   0,   0,   0,   0,\n",
              "          0,   0],\n",
              "       [  0,   0,   0,   0,   0,   0,   0,   0,  23,  66, 213, 253, 253,\n",
              "        253, 253, 198,  81,   2,   0,   0,   0,   0,   0,   0,   0,   0,\n",
              "          0,   0],\n",
              "       [  0,   0,   0,   0,   0,   0,  18, 171, 219, 253, 253, 253, 253,\n",
              "        195,  80,   9,   0,   0,   0,   0,   0,   0,   0,   0,   0,   0,\n",
              "          0,   0],\n",
              "       [  0,   0,   0,   0,  55, 172, 226, 253, 253, 253, 253, 244, 133,\n",
              "         11,   0,   0,   0,   0,   0,   0,   0,   0,   0,   0,   0,   0,\n",
              "          0,   0],\n",
              "       [  0,   0,   0,   0, 136, 253, 253, 253, 212, 135, 132,  16,   0,\n",
              "          0,   0,   0,   0,   0,   0,   0,   0,   0,   0,   0,   0,   0,\n",
              "          0,   0],\n",
              "       [  0,   0,   0,   0,   0,   0,   0,   0,   0,   0,   0,   0,   0,\n",
              "          0,   0,   0,   0,   0,   0,   0,   0,   0,   0,   0,   0,   0,\n",
              "          0,   0],\n",
              "       [  0,   0,   0,   0,   0,   0,   0,   0,   0,   0,   0,   0,   0,\n",
              "          0,   0,   0,   0,   0,   0,   0,   0,   0,   0,   0,   0,   0,\n",
              "          0,   0],\n",
              "       [  0,   0,   0,   0,   0,   0,   0,   0,   0,   0,   0,   0,   0,\n",
              "          0,   0,   0,   0,   0,   0,   0,   0,   0,   0,   0,   0,   0,\n",
              "          0,   0]], dtype=uint8)"
            ],
            "text/html": [
              "<style>\n",
              "      .ndarray_repr .ndarray_raw_data {\n",
              "        display: none;\n",
              "      }\n",
              "      .ndarray_repr.show_array .ndarray_raw_data {\n",
              "        display: block;\n",
              "      }\n",
              "      .ndarray_repr.show_array .ndarray_image_preview {\n",
              "        display: none;\n",
              "      }\n",
              "      </style>\n",
              "      <div id=\"id-58ec40d3-d18b-4208-8735-6308a85e140b\" class=\"ndarray_repr\"><pre>ndarray (28, 28) <button style=\"padding: 0 2px;\">show data</button></pre><img src=\"data:image/png;base64,iVBORw0KGgoAAAANSUhEUgAAABwAAAAcCAAAAABXZoBIAAABAElEQVR4nGNgGMyAWUhIqK5jvdSy/9/rGRgYGFhgEnJsVjYCwQwMDAxPJgV+vniQgYGBgREqZ7iXH8r6l/SV4dn7m8gmCt3++/fv37/Htn3/iMW+gDnZf/+e5WbQnoXNNXyMs/5GoQoxwVmf/n9kSGFiwAW49/11wynJoPzx4YIcRlyygR/+/i2XxCWru+vv32nSuGQFYv/83Y3b4p9/fzpAmSyoMnohpiwM1w5h06Q+5enfv39/bcMiJVF09+/fv39P+mFKiTtd/fv3799jgZiBJLT69t+/f/8eDuDEkDJf8+jv379/v7Ryo4qzMDAwMAQGMjBc3/y35wM2V1IfAABFF16Aa0wAOwAAAABJRU5ErkJggg==\" class=\"ndarray_image_preview\" /><pre class=\"ndarray_raw_data\">array([[  0,   0,   0,   0,   0,   0,   0,   0,   0,   0,   0,   0,   0,\n",
              "          0,   0,   0,   0,   0,   0,   0,   0,   0,   0,   0,   0,   0,\n",
              "          0,   0],\n",
              "       [  0,   0,   0,   0,   0,   0,   0,   0,   0,   0,   0,   0,   0,\n",
              "          0,   0,   0,   0,   0,   0,   0,   0,   0,   0,   0,   0,   0,\n",
              "          0,   0],\n",
              "       [  0,   0,   0,   0,   0,   0,   0,   0,   0,   0,   0,   0,   0,\n",
              "          0,   0,   0,   0,   0,   0,   0,   0,   0,   0,   0,   0,   0,\n",
              "          0,   0],\n",
              "       [  0,   0,   0,   0,   0,   0,   0,   0,   0,   0,   0,   0,   0,\n",
              "          0,   0,   0,   0,   0,   0,   0,   0,   0,   0,   0,   0,   0,\n",
              "          0,   0],\n",
              "       [  0,   0,   0,   0,   0,   0,   0,   0,   0,   0,   0,   0,   0,\n",
              "          0,   0,   0,   0,   0,   0,   0,   0,   0,   0,   0,   0,   0,\n",
              "          0,   0],\n",
              "       [  0,   0,   0,   0,   0,   0,   0,   0,   0,   0,   0,   0,   3,\n",
              "         18,  18,  18, 126, 136, 175,  26, 166, 255, 247, 127,   0,   0,\n",
              "          0,   0],\n",
              "       [  0,   0,   0,   0,   0,   0,   0,   0,  30,  36,  94, 154, 170,\n",
              "        253, 253, 253, 253, 253, 225, 172, 253, 242, 195,  64,   0,   0,\n",
              "          0,   0],\n",
              "       [  0,   0,   0,   0,   0,   0,   0,  49, 238, 253, 253, 253, 253,\n",
              "        253, 253, 253, 253, 251,  93,  82,  82,  56,  39,   0,   0,   0,\n",
              "          0,   0],\n",
              "       [  0,   0,   0,   0,   0,   0,   0,  18, 219, 253, 253, 253, 253,\n",
              "        253, 198, 182, 247, 241,   0,   0,   0,   0,   0,   0,   0,   0,\n",
              "          0,   0],\n",
              "       [  0,   0,   0,   0,   0,   0,   0,   0,  80, 156, 107, 253, 253,\n",
              "        205,  11,   0,  43, 154,   0,   0,   0,   0,   0,   0,   0,   0,\n",
              "          0,   0],\n",
              "       [  0,   0,   0,   0,   0,   0,   0,   0,   0,  14,   1, 154, 253,\n",
              "         90,   0,   0,   0,   0,   0,   0,   0,   0,   0,   0,   0,   0,\n",
              "          0,   0],\n",
              "       [  0,   0,   0,   0,   0,   0,   0,   0,   0,   0,   0, 139, 253,\n",
              "        190,   2,   0,   0,   0,   0,   0,   0,   0,   0,   0,   0,   0,\n",
              "          0,   0],\n",
              "       [  0,   0,   0,   0,   0,   0,   0,   0,   0,   0,   0,  11, 190,\n",
              "        253,  70,   0,   0,   0,   0,   0,   0,   0,   0,   0,   0,   0,\n",
              "          0,   0],\n",
              "       [  0,   0,   0,   0,   0,   0,   0,   0,   0,   0,   0,   0,  35,\n",
              "        241, 225, 160, 108,   1,   0,   0,   0,   0,   0,   0,   0,   0,\n",
              "          0,   0],\n",
              "       [  0,   0,   0,   0,   0,   0,   0,   0,   0,   0,   0,   0,   0,\n",
              "         81, 240, 253, 253, 119,  25,   0,   0,   0,   0,   0,   0,   0,\n",
              "          0,   0],\n",
              "       [  0,   0,   0,   0,   0,   0,   0,   0,   0,   0,   0,   0,   0,\n",
              "          0,  45, 186, 253, 253, 150,  27,   0,   0,   0,   0,   0,   0,\n",
              "          0,   0],\n",
              "       [  0,   0,   0,   0,   0,   0,   0,   0,   0,   0,   0,   0,   0,\n",
              "          0,   0,  16,  93, 252, 253, 187,   0,   0,   0,   0,   0,   0,\n",
              "          0,   0],\n",
              "       [  0,   0,   0,   0,   0,   0,   0,   0,   0,   0,   0,   0,   0,\n",
              "          0,   0,   0,   0, 249, 253, 249,  64,   0,   0,   0,   0,   0,\n",
              "          0,   0],\n",
              "       [  0,   0,   0,   0,   0,   0,   0,   0,   0,   0,   0,   0,   0,\n",
              "          0,  46, 130, 183, 253, 253, 207,   2,   0,   0,   0,   0,   0,\n",
              "          0,   0],\n",
              "       [  0,   0,   0,   0,   0,   0,   0,   0,   0,   0,   0,   0,  39,\n",
              "        148, 229, 253, 253, 253, 250, 182,   0,   0,   0,   0,   0,   0,\n",
              "          0,   0],\n",
              "       [  0,   0,   0,   0,   0,   0,   0,   0,   0,   0,  24, 114, 221,\n",
              "        253, 253, 253, 253, 201,  78,   0,   0,   0,   0,   0,   0,   0,\n",
              "          0,   0],\n",
              "       [  0,   0,   0,   0,   0,   0,   0,   0,  23,  66, 213, 253, 253,\n",
              "        253, 253, 198,  81,   2,   0,   0,   0,   0,   0,   0,   0,   0,\n",
              "          0,   0],\n",
              "       [  0,   0,   0,   0,   0,   0,  18, 171, 219, 253, 253, 253, 253,\n",
              "        195,  80,   9,   0,   0,   0,   0,   0,   0,   0,   0,   0,   0,\n",
              "          0,   0],\n",
              "       [  0,   0,   0,   0,  55, 172, 226, 253, 253, 253, 253, 244, 133,\n",
              "         11,   0,   0,   0,   0,   0,   0,   0,   0,   0,   0,   0,   0,\n",
              "          0,   0],\n",
              "       [  0,   0,   0,   0, 136, 253, 253, 253, 212, 135, 132,  16,   0,\n",
              "          0,   0,   0,   0,   0,   0,   0,   0,   0,   0,   0,   0,   0,\n",
              "          0,   0],\n",
              "       [  0,   0,   0,   0,   0,   0,   0,   0,   0,   0,   0,   0,   0,\n",
              "          0,   0,   0,   0,   0,   0,   0,   0,   0,   0,   0,   0,   0,\n",
              "          0,   0],\n",
              "       [  0,   0,   0,   0,   0,   0,   0,   0,   0,   0,   0,   0,   0,\n",
              "          0,   0,   0,   0,   0,   0,   0,   0,   0,   0,   0,   0,   0,\n",
              "          0,   0],\n",
              "       [  0,   0,   0,   0,   0,   0,   0,   0,   0,   0,   0,   0,   0,\n",
              "          0,   0,   0,   0,   0,   0,   0,   0,   0,   0,   0,   0,   0,\n",
              "          0,   0]], dtype=uint8)</pre></div><script>\n",
              "      (() => {\n",
              "      const titles = ['show data', 'hide data'];\n",
              "      let index = 0\n",
              "      document.querySelector('#id-58ec40d3-d18b-4208-8735-6308a85e140b button').onclick = (e) => {\n",
              "        document.querySelector('#id-58ec40d3-d18b-4208-8735-6308a85e140b').classList.toggle('show_array');\n",
              "        index = (++index) % 2;\n",
              "        document.querySelector('#id-58ec40d3-d18b-4208-8735-6308a85e140b button').textContent = titles[index];\n",
              "        e.preventDefault();\n",
              "        e.stopPropagation();\n",
              "      }\n",
              "      })();\n",
              "    </script>"
            ]
          },
          "metadata": {},
          "execution_count": 31
        }
      ]
    },
    {
      "cell_type": "code",
      "source": [
        "y_train.shape\n"
      ],
      "metadata": {
        "colab": {
          "base_uri": "https://localhost:8080/"
        },
        "id": "EM2kRL5beTyK",
        "outputId": "6604aa39-0f04-491d-d9aa-4a92960b028d"
      },
      "execution_count": null,
      "outputs": [
        {
          "output_type": "execute_result",
          "data": {
            "text/plain": [
              "(60000,)"
            ]
          },
          "metadata": {},
          "execution_count": 32
        }
      ]
    },
    {
      "cell_type": "code",
      "source": [
        "y_train[:10]"
      ],
      "metadata": {
        "colab": {
          "base_uri": "https://localhost:8080/"
        },
        "id": "-IXpHpyxesLq",
        "outputId": "639e2ecb-83cf-425d-a369-a7ace5da7604"
      },
      "execution_count": null,
      "outputs": [
        {
          "output_type": "execute_result",
          "data": {
            "text/plain": [
              "array([5, 0, 4, 1, 9, 2, 1, 3, 1, 4], dtype=uint8)"
            ]
          },
          "metadata": {},
          "execution_count": 33
        }
      ]
    },
    {
      "cell_type": "code",
      "source": [
        "x_train_final = x_train.reshape((-1, 784))\n",
        "x_train_final.shape\n"
      ],
      "metadata": {
        "colab": {
          "base_uri": "https://localhost:8080/"
        },
        "id": "FUrYANRrg81R",
        "outputId": "74c2231f-ea6e-470c-e8c9-a96c3f252551"
      },
      "execution_count": null,
      "outputs": [
        {
          "output_type": "execute_result",
          "data": {
            "text/plain": [
              "(60000, 784)"
            ]
          },
          "metadata": {},
          "execution_count": 34
        }
      ]
    },
    {
      "cell_type": "code",
      "source": [
        "x_train_final[0]"
      ],
      "metadata": {
        "colab": {
          "base_uri": "https://localhost:8080/"
        },
        "id": "_5cNkJvmZtyK",
        "outputId": "060793ef-f605-459b-ab79-5add7d6eb78d"
      },
      "execution_count": null,
      "outputs": [
        {
          "output_type": "execute_result",
          "data": {
            "text/plain": [
              "array([  0,   0,   0,   0,   0,   0,   0,   0,   0,   0,   0,   0,   0,\n",
              "         0,   0,   0,   0,   0,   0,   0,   0,   0,   0,   0,   0,   0,\n",
              "         0,   0,   0,   0,   0,   0,   0,   0,   0,   0,   0,   0,   0,\n",
              "         0,   0,   0,   0,   0,   0,   0,   0,   0,   0,   0,   0,   0,\n",
              "         0,   0,   0,   0,   0,   0,   0,   0,   0,   0,   0,   0,   0,\n",
              "         0,   0,   0,   0,   0,   0,   0,   0,   0,   0,   0,   0,   0,\n",
              "         0,   0,   0,   0,   0,   0,   0,   0,   0,   0,   0,   0,   0,\n",
              "         0,   0,   0,   0,   0,   0,   0,   0,   0,   0,   0,   0,   0,\n",
              "         0,   0,   0,   0,   0,   0,   0,   0,   0,   0,   0,   0,   0,\n",
              "         0,   0,   0,   0,   0,   0,   0,   0,   0,   0,   0,   0,   0,\n",
              "         0,   0,   0,   0,   0,   0,   0,   0,   0,   0,   0,   0,   0,\n",
              "         0,   0,   0,   0,   0,   0,   0,   0,   0,   3,  18,  18,  18,\n",
              "       126, 136, 175,  26, 166, 255, 247, 127,   0,   0,   0,   0,   0,\n",
              "         0,   0,   0,   0,   0,   0,   0,  30,  36,  94, 154, 170, 253,\n",
              "       253, 253, 253, 253, 225, 172, 253, 242, 195,  64,   0,   0,   0,\n",
              "         0,   0,   0,   0,   0,   0,   0,   0,  49, 238, 253, 253, 253,\n",
              "       253, 253, 253, 253, 253, 251,  93,  82,  82,  56,  39,   0,   0,\n",
              "         0,   0,   0,   0,   0,   0,   0,   0,   0,   0,  18, 219, 253,\n",
              "       253, 253, 253, 253, 198, 182, 247, 241,   0,   0,   0,   0,   0,\n",
              "         0,   0,   0,   0,   0,   0,   0,   0,   0,   0,   0,   0,   0,\n",
              "        80, 156, 107, 253, 253, 205,  11,   0,  43, 154,   0,   0,   0,\n",
              "         0,   0,   0,   0,   0,   0,   0,   0,   0,   0,   0,   0,   0,\n",
              "         0,   0,   0,  14,   1, 154, 253,  90,   0,   0,   0,   0,   0,\n",
              "         0,   0,   0,   0,   0,   0,   0,   0,   0,   0,   0,   0,   0,\n",
              "         0,   0,   0,   0,   0,   0,   0, 139, 253, 190,   2,   0,   0,\n",
              "         0,   0,   0,   0,   0,   0,   0,   0,   0,   0,   0,   0,   0,\n",
              "         0,   0,   0,   0,   0,   0,   0,   0,   0,  11, 190, 253,  70,\n",
              "         0,   0,   0,   0,   0,   0,   0,   0,   0,   0,   0,   0,   0,\n",
              "         0,   0,   0,   0,   0,   0,   0,   0,   0,   0,   0,   0,  35,\n",
              "       241, 225, 160, 108,   1,   0,   0,   0,   0,   0,   0,   0,   0,\n",
              "         0,   0,   0,   0,   0,   0,   0,   0,   0,   0,   0,   0,   0,\n",
              "         0,   0,  81, 240, 253, 253, 119,  25,   0,   0,   0,   0,   0,\n",
              "         0,   0,   0,   0,   0,   0,   0,   0,   0,   0,   0,   0,   0,\n",
              "         0,   0,   0,   0,   0,  45, 186, 253, 253, 150,  27,   0,   0,\n",
              "         0,   0,   0,   0,   0,   0,   0,   0,   0,   0,   0,   0,   0,\n",
              "         0,   0,   0,   0,   0,   0,   0,   0,  16,  93, 252, 253, 187,\n",
              "         0,   0,   0,   0,   0,   0,   0,   0,   0,   0,   0,   0,   0,\n",
              "         0,   0,   0,   0,   0,   0,   0,   0,   0,   0,   0,   0, 249,\n",
              "       253, 249,  64,   0,   0,   0,   0,   0,   0,   0,   0,   0,   0,\n",
              "         0,   0,   0,   0,   0,   0,   0,   0,   0,   0,   0,  46, 130,\n",
              "       183, 253, 253, 207,   2,   0,   0,   0,   0,   0,   0,   0,   0,\n",
              "         0,   0,   0,   0,   0,   0,   0,   0,   0,   0,   0,  39, 148,\n",
              "       229, 253, 253, 253, 250, 182,   0,   0,   0,   0,   0,   0,   0,\n",
              "         0,   0,   0,   0,   0,   0,   0,   0,   0,   0,   0,  24, 114,\n",
              "       221, 253, 253, 253, 253, 201,  78,   0,   0,   0,   0,   0,   0,\n",
              "         0,   0,   0,   0,   0,   0,   0,   0,   0,   0,   0,  23,  66,\n",
              "       213, 253, 253, 253, 253, 198,  81,   2,   0,   0,   0,   0,   0,\n",
              "         0,   0,   0,   0,   0,   0,   0,   0,   0,   0,   0,  18, 171,\n",
              "       219, 253, 253, 253, 253, 195,  80,   9,   0,   0,   0,   0,   0,\n",
              "         0,   0,   0,   0,   0,   0,   0,   0,   0,   0,   0,  55, 172,\n",
              "       226, 253, 253, 253, 253, 244, 133,  11,   0,   0,   0,   0,   0,\n",
              "         0,   0,   0,   0,   0,   0,   0,   0,   0,   0,   0,   0,   0,\n",
              "       136, 253, 253, 253, 212, 135, 132,  16,   0,   0,   0,   0,   0,\n",
              "         0,   0,   0,   0,   0,   0,   0,   0,   0,   0,   0,   0,   0,\n",
              "         0,   0,   0,   0,   0,   0,   0,   0,   0,   0,   0,   0,   0,\n",
              "         0,   0,   0,   0,   0,   0,   0,   0,   0,   0,   0,   0,   0,\n",
              "         0,   0,   0,   0,   0,   0,   0,   0,   0,   0,   0,   0,   0,\n",
              "         0,   0,   0,   0,   0,   0,   0,   0,   0,   0,   0,   0,   0,\n",
              "         0,   0,   0,   0,   0,   0,   0,   0,   0,   0,   0,   0,   0,\n",
              "         0,   0,   0,   0,   0,   0,   0,   0,   0,   0,   0,   0,   0,\n",
              "         0,   0,   0,   0], dtype=uint8)"
            ]
          },
          "metadata": {},
          "execution_count": 35
        }
      ]
    },
    {
      "cell_type": "code",
      "source": [
        "x_test_final = x_test.reshape((-1, 784))\n",
        "x_test_final.shape"
      ],
      "metadata": {
        "colab": {
          "base_uri": "https://localhost:8080/"
        },
        "id": "PvASQG1HiQsb",
        "outputId": "c721a1fc-c713-433a-817e-e0a395765278"
      },
      "execution_count": null,
      "outputs": [
        {
          "output_type": "execute_result",
          "data": {
            "text/plain": [
              "(10000, 784)"
            ]
          },
          "metadata": {},
          "execution_count": 36
        }
      ]
    },
    {
      "cell_type": "code",
      "source": [
        "x_train_final = x_train_final / 255\n",
        "x_test_final = x_test_final / 255\n"
      ],
      "metadata": {
        "id": "FeitXU4CjM1O"
      },
      "execution_count": null,
      "outputs": []
    },
    {
      "cell_type": "code",
      "source": [
        "import tensorflow as tf\n",
        "\n",
        "model = tf.keras.Sequential([\n",
        "    tf.keras.layers.Input(shape=(784,)),\n",
        "    tf.keras.layers.Dense(256, activation='relu'),\n",
        "    tf.keras.layers.Dense(128, activation='relu'),\n",
        "    tf.keras.layers.Dense(10, activation='softmax')\n",
        "])\n",
        "\n",
        "model.compile(optimizer='adam', loss='sparse_categorical_crossentropy', metrics=['accuracy'])\n",
        "\n",
        "results = model.fit(\n",
        "    x=x_train_final,\n",
        "    y=y_train,\n",
        "    shuffle=True,\n",
        "    epochs=30,\n",
        "    batch_size=16,\n",
        "    validation_data=(x_test_final, y_test)\n",
        ")\n"
      ],
      "metadata": {
        "id": "qkEPIMixjVHa",
        "colab": {
          "base_uri": "https://localhost:8080/"
        },
        "outputId": "1d579490-73e4-4d9d-e341-76a448aaa2b1"
      },
      "execution_count": null,
      "outputs": [
        {
          "output_type": "stream",
          "name": "stdout",
          "text": [
            "Epoch 1/30\n",
            "\u001b[1m3750/3750\u001b[0m \u001b[32m━━━━━━━━━━━━━━━━━━━━\u001b[0m\u001b[37m\u001b[0m \u001b[1m12s\u001b[0m 3ms/step - accuracy: 0.9018 - loss: 0.3255 - val_accuracy: 0.9654 - val_loss: 0.1116\n",
            "Epoch 2/30\n",
            "\u001b[1m3750/3750\u001b[0m \u001b[32m━━━━━━━━━━━━━━━━━━━━\u001b[0m\u001b[37m\u001b[0m \u001b[1m19s\u001b[0m 3ms/step - accuracy: 0.9729 - loss: 0.0875 - val_accuracy: 0.9705 - val_loss: 0.0981\n",
            "Epoch 3/30\n",
            "\u001b[1m3750/3750\u001b[0m \u001b[32m━━━━━━━━━━━━━━━━━━━━\u001b[0m\u001b[37m\u001b[0m \u001b[1m10s\u001b[0m 3ms/step - accuracy: 0.9815 - loss: 0.0602 - val_accuracy: 0.9715 - val_loss: 0.0978\n",
            "Epoch 4/30\n",
            "\u001b[1m3750/3750\u001b[0m \u001b[32m━━━━━━━━━━━━━━━━━━━━\u001b[0m\u001b[37m\u001b[0m \u001b[1m10s\u001b[0m 3ms/step - accuracy: 0.9852 - loss: 0.0457 - val_accuracy: 0.9781 - val_loss: 0.0777\n",
            "Epoch 5/30\n",
            "\u001b[1m3750/3750\u001b[0m \u001b[32m━━━━━━━━━━━━━━━━━━━━\u001b[0m\u001b[37m\u001b[0m \u001b[1m10s\u001b[0m 3ms/step - accuracy: 0.9895 - loss: 0.0314 - val_accuracy: 0.9794 - val_loss: 0.0824\n",
            "Epoch 6/30\n",
            "\u001b[1m3750/3750\u001b[0m \u001b[32m━━━━━━━━━━━━━━━━━━━━\u001b[0m\u001b[37m\u001b[0m \u001b[1m11s\u001b[0m 3ms/step - accuracy: 0.9913 - loss: 0.0266 - val_accuracy: 0.9768 - val_loss: 0.0946\n",
            "Epoch 7/30\n",
            "\u001b[1m3750/3750\u001b[0m \u001b[32m━━━━━━━━━━━━━━━━━━━━\u001b[0m\u001b[37m\u001b[0m \u001b[1m9s\u001b[0m 2ms/step - accuracy: 0.9924 - loss: 0.0238 - val_accuracy: 0.9781 - val_loss: 0.0973\n",
            "Epoch 8/30\n",
            "\u001b[1m3750/3750\u001b[0m \u001b[32m━━━━━━━━━━━━━━━━━━━━\u001b[0m\u001b[37m\u001b[0m \u001b[1m11s\u001b[0m 3ms/step - accuracy: 0.9925 - loss: 0.0233 - val_accuracy: 0.9713 - val_loss: 0.1237\n",
            "Epoch 9/30\n",
            "\u001b[1m3750/3750\u001b[0m \u001b[32m━━━━━━━━━━━━━━━━━━━━\u001b[0m\u001b[37m\u001b[0m \u001b[1m11s\u001b[0m 3ms/step - accuracy: 0.9942 - loss: 0.0183 - val_accuracy: 0.9786 - val_loss: 0.1057\n",
            "Epoch 10/30\n",
            "\u001b[1m3750/3750\u001b[0m \u001b[32m━━━━━━━━━━━━━━━━━━━━\u001b[0m\u001b[37m\u001b[0m \u001b[1m10s\u001b[0m 3ms/step - accuracy: 0.9932 - loss: 0.0195 - val_accuracy: 0.9802 - val_loss: 0.0937\n",
            "Epoch 11/30\n",
            "\u001b[1m3750/3750\u001b[0m \u001b[32m━━━━━━━━━━━━━━━━━━━━\u001b[0m\u001b[37m\u001b[0m \u001b[1m10s\u001b[0m 3ms/step - accuracy: 0.9953 - loss: 0.0163 - val_accuracy: 0.9795 - val_loss: 0.1136\n",
            "Epoch 12/30\n",
            "\u001b[1m3750/3750\u001b[0m \u001b[32m━━━━━━━━━━━━━━━━━━━━\u001b[0m\u001b[37m\u001b[0m \u001b[1m10s\u001b[0m 3ms/step - accuracy: 0.9947 - loss: 0.0179 - val_accuracy: 0.9800 - val_loss: 0.1052\n",
            "Epoch 13/30\n",
            "\u001b[1m3750/3750\u001b[0m \u001b[32m━━━━━━━━━━━━━━━━━━━━\u001b[0m\u001b[37m\u001b[0m \u001b[1m10s\u001b[0m 2ms/step - accuracy: 0.9959 - loss: 0.0133 - val_accuracy: 0.9816 - val_loss: 0.1105\n",
            "Epoch 14/30\n",
            "\u001b[1m3750/3750\u001b[0m \u001b[32m━━━━━━━━━━━━━━━━━━━━\u001b[0m\u001b[37m\u001b[0m \u001b[1m10s\u001b[0m 3ms/step - accuracy: 0.9959 - loss: 0.0130 - val_accuracy: 0.9765 - val_loss: 0.1517\n",
            "Epoch 15/30\n",
            "\u001b[1m3750/3750\u001b[0m \u001b[32m━━━━━━━━━━━━━━━━━━━━\u001b[0m\u001b[37m\u001b[0m \u001b[1m10s\u001b[0m 3ms/step - accuracy: 0.9959 - loss: 0.0133 - val_accuracy: 0.9812 - val_loss: 0.1152\n",
            "Epoch 16/30\n",
            "\u001b[1m3750/3750\u001b[0m \u001b[32m━━━━━━━━━━━━━━━━━━━━\u001b[0m\u001b[37m\u001b[0m \u001b[1m10s\u001b[0m 3ms/step - accuracy: 0.9964 - loss: 0.0118 - val_accuracy: 0.9762 - val_loss: 0.1536\n",
            "Epoch 17/30\n",
            "\u001b[1m3750/3750\u001b[0m \u001b[32m━━━━━━━━━━━━━━━━━━━━\u001b[0m\u001b[37m\u001b[0m \u001b[1m10s\u001b[0m 3ms/step - accuracy: 0.9964 - loss: 0.0117 - val_accuracy: 0.9801 - val_loss: 0.1364\n",
            "Epoch 18/30\n",
            "\u001b[1m3750/3750\u001b[0m \u001b[32m━━━━━━━━━━━━━━━━━━━━\u001b[0m\u001b[37m\u001b[0m \u001b[1m11s\u001b[0m 3ms/step - accuracy: 0.9972 - loss: 0.0109 - val_accuracy: 0.9801 - val_loss: 0.1431\n",
            "Epoch 19/30\n",
            "\u001b[1m3750/3750\u001b[0m \u001b[32m━━━━━━━━━━━━━━━━━━━━\u001b[0m\u001b[37m\u001b[0m \u001b[1m20s\u001b[0m 3ms/step - accuracy: 0.9964 - loss: 0.0127 - val_accuracy: 0.9773 - val_loss: 0.1551\n",
            "Epoch 20/30\n",
            "\u001b[1m3750/3750\u001b[0m \u001b[32m━━━━━━━━━━━━━━━━━━━━\u001b[0m\u001b[37m\u001b[0m \u001b[1m10s\u001b[0m 3ms/step - accuracy: 0.9971 - loss: 0.0101 - val_accuracy: 0.9788 - val_loss: 0.1644\n",
            "Epoch 21/30\n",
            "\u001b[1m3750/3750\u001b[0m \u001b[32m━━━━━━━━━━━━━━━━━━━━\u001b[0m\u001b[37m\u001b[0m \u001b[1m10s\u001b[0m 3ms/step - accuracy: 0.9968 - loss: 0.0137 - val_accuracy: 0.9797 - val_loss: 0.1457\n",
            "Epoch 22/30\n",
            "\u001b[1m3750/3750\u001b[0m \u001b[32m━━━━━━━━━━━━━━━━━━━━\u001b[0m\u001b[37m\u001b[0m \u001b[1m10s\u001b[0m 3ms/step - accuracy: 0.9967 - loss: 0.0119 - val_accuracy: 0.9787 - val_loss: 0.1859\n",
            "Epoch 23/30\n",
            "\u001b[1m3750/3750\u001b[0m \u001b[32m━━━━━━━━━━━━━━━━━━━━\u001b[0m\u001b[37m\u001b[0m \u001b[1m10s\u001b[0m 3ms/step - accuracy: 0.9968 - loss: 0.0142 - val_accuracy: 0.9786 - val_loss: 0.1900\n",
            "Epoch 24/30\n",
            "\u001b[1m3750/3750\u001b[0m \u001b[32m━━━━━━━━━━━━━━━━━━━━\u001b[0m\u001b[37m\u001b[0m \u001b[1m9s\u001b[0m 2ms/step - accuracy: 0.9973 - loss: 0.0098 - val_accuracy: 0.9789 - val_loss: 0.1932\n",
            "Epoch 25/30\n",
            "\u001b[1m3750/3750\u001b[0m \u001b[32m━━━━━━━━━━━━━━━━━━━━\u001b[0m\u001b[37m\u001b[0m \u001b[1m10s\u001b[0m 3ms/step - accuracy: 0.9970 - loss: 0.0114 - val_accuracy: 0.9766 - val_loss: 0.2222\n",
            "Epoch 26/30\n",
            "\u001b[1m3750/3750\u001b[0m \u001b[32m━━━━━━━━━━━━━━━━━━━━\u001b[0m\u001b[37m\u001b[0m \u001b[1m10s\u001b[0m 3ms/step - accuracy: 0.9975 - loss: 0.0111 - val_accuracy: 0.9782 - val_loss: 0.2064\n",
            "Epoch 27/30\n",
            "\u001b[1m3750/3750\u001b[0m \u001b[32m━━━━━━━━━━━━━━━━━━━━\u001b[0m\u001b[37m\u001b[0m \u001b[1m10s\u001b[0m 3ms/step - accuracy: 0.9974 - loss: 0.0106 - val_accuracy: 0.9806 - val_loss: 0.1877\n",
            "Epoch 28/30\n",
            "\u001b[1m3750/3750\u001b[0m \u001b[32m━━━━━━━━━━━━━━━━━━━━\u001b[0m\u001b[37m\u001b[0m \u001b[1m10s\u001b[0m 3ms/step - accuracy: 0.9977 - loss: 0.0098 - val_accuracy: 0.9819 - val_loss: 0.1760\n",
            "Epoch 29/30\n",
            "\u001b[1m3750/3750\u001b[0m \u001b[32m━━━━━━━━━━━━━━━━━━━━\u001b[0m\u001b[37m\u001b[0m \u001b[1m10s\u001b[0m 2ms/step - accuracy: 0.9977 - loss: 0.0092 - val_accuracy: 0.9791 - val_loss: 0.2022\n",
            "Epoch 30/30\n",
            "\u001b[1m3750/3750\u001b[0m \u001b[32m━━━━━━━━━━━━━━━━━━━━\u001b[0m\u001b[37m\u001b[0m \u001b[1m11s\u001b[0m 3ms/step - accuracy: 0.9979 - loss: 0.0078 - val_accuracy: 0.9824 - val_loss: 0.1924\n"
          ]
        }
      ]
    },
    {
      "cell_type": "markdown",
      "source": [
        "**⌛Before:**"
      ],
      "metadata": {
        "id": "V3TUmHUbckaq"
      }
    },
    {
      "cell_type": "markdown",
      "source": [
        "![image.png](data:image/png;base64,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)"
      ],
      "metadata": {
        "id": "bJeZFOSPctZf"
      }
    },
    {
      "cell_type": "markdown",
      "source": [
        "**⚡After:**"
      ],
      "metadata": {
        "id": "mNfDF9NOclTl"
      }
    },
    {
      "cell_type": "code",
      "source": [
        "eval = model.evaluate(x=x_test_final, y=y_test)\n"
      ],
      "metadata": {
        "colab": {
          "base_uri": "https://localhost:8080/"
        },
        "id": "zsm8NudSnbXu",
        "outputId": "2cfa9240-add3-4913-a0d8-12ee353be792"
      },
      "execution_count": null,
      "outputs": [
        {
          "output_type": "stream",
          "name": "stdout",
          "text": [
            "\u001b[1m313/313\u001b[0m \u001b[32m━━━━━━━━━━━━━━━━━━━━\u001b[0m\u001b[37m\u001b[0m \u001b[1m2s\u001b[0m 4ms/step - accuracy: 0.9784 - loss: 0.2332\n"
          ]
        }
      ]
    },
    {
      "cell_type": "code",
      "source": [
        "x_train_final.shape"
      ],
      "metadata": {
        "colab": {
          "base_uri": "https://localhost:8080/"
        },
        "id": "TK7-Xq_va9ue",
        "outputId": "a32d9bee-ae2d-40e4-eeb3-3b584abc08ca"
      },
      "execution_count": null,
      "outputs": [
        {
          "output_type": "execute_result",
          "data": {
            "text/plain": [
              "(60000, 784)"
            ]
          },
          "metadata": {},
          "execution_count": 42
        }
      ]
    },
    {
      "cell_type": "code",
      "source": [
        "new=model.predict(x_train_final)"
      ],
      "metadata": {
        "colab": {
          "base_uri": "https://localhost:8080/"
        },
        "id": "NdtAQfVxZ6Of",
        "outputId": "286a79b9-9a3a-4a69-e6db-57cbc0df8e16"
      },
      "execution_count": null,
      "outputs": [
        {
          "output_type": "stream",
          "name": "stdout",
          "text": [
            "\u001b[1m1875/1875\u001b[0m \u001b[32m━━━━━━━━━━━━━━━━━━━━\u001b[0m\u001b[37m\u001b[0m \u001b[1m3s\u001b[0m 1ms/step\n"
          ]
        }
      ]
    },
    {
      "cell_type": "code",
      "source": [
        "new[0]"
      ],
      "metadata": {
        "id": "0nWWTQHObK5B",
        "outputId": "301d2bfd-7015-49c3-a274-2a33b4c9af32",
        "colab": {
          "base_uri": "https://localhost:8080/"
        }
      },
      "execution_count": null,
      "outputs": [
        {
          "output_type": "execute_result",
          "data": {
            "text/plain": [
              "array([0.0000000e+00, 1.0490946e-32, 0.0000000e+00, 3.7426707e-05,\n",
              "       0.0000000e+00, 9.9996257e-01, 0.0000000e+00, 1.7894581e-42,\n",
              "       5.3780395e-38, 7.0872049e-37], dtype=float32)"
            ]
          },
          "metadata": {},
          "execution_count": 44
        }
      ]
    },
    {
      "cell_type": "code",
      "source": [
        "import matplotlib.pyplot as plt\n",
        "\n",
        "plt.plot(results.history['loss'])\n",
        "plt.plot(results.history['val_loss'])\n",
        "plt.legend(['Training', 'Validation'])\n",
        "plt.title('Training and Validation Losses')\n",
        "plt.xlabel('epoch')\n",
        "plt.ylabel('Losses')\n"
      ],
      "metadata": {
        "colab": {
          "base_uri": "https://localhost:8080/",
          "height": 489
        },
        "id": "z6YQ_jX0oX-R",
        "outputId": "3219a4b7-3b6d-477c-bb21-f0d06553a533"
      },
      "execution_count": null,
      "outputs": [
        {
          "output_type": "execute_result",
          "data": {
            "text/plain": [
              "Text(0, 0.5, 'Losses')"
            ]
          },
          "metadata": {},
          "execution_count": 45
        },
        {
          "output_type": "display_data",
          "data": {
            "text/plain": [
              "<Figure size 640x480 with 1 Axes>"
            ],
            "image/png": "[encoded data removed]"
          },
          "metadata": {}
        }
      ]
    },
    {
      "cell_type": "code",
      "source": [
        "plt.plot(results.history['accuracy'])\n",
        "plt.plot(results.history['val_accuracy'])\n",
        "plt.legend(['Training', 'Validation'])\n",
        "plt.title('Training and Validation Losses')\n",
        "plt.xlabel('epoch')\n",
        "plt.ylabel('Accuracy')"
      ],
      "metadata": {
        "colab": {
          "base_uri": "https://localhost:8080/",
          "height": 489
        },
        "id": "t42U1jSTp-1m",
        "outputId": "3dd0c50e-387f-4cf2-c872-835e7a7e9e02"
      },
      "execution_count": null,
      "outputs": [
        {
          "output_type": "execute_result",
          "data": {
            "text/plain": [
              "Text(0, 0.5, 'Accuracy')"
            ]
          },
          "metadata": {},
          "execution_count": 46
        },
        {
          "output_type": "display_data",
          "data": {
            "text/plain": [
              "<Figure size 640x480 with 1 Axes>"
            ],
            "image/png": "[encoded data removed]"
          },
          "metadata": {}
        }
      ]
    }
  ]
}